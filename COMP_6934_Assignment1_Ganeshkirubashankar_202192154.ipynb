{
 "cells": [
  {
   "cell_type": "markdown",
   "id": "691e6269",
   "metadata": {},
   "source": [
    "# Assignment1 - COMP 6934\n",
    "\n",
    "### Name: Ganeshkirubashankar Pavadaisamy\n",
    "### Student ID: 202192154\n",
    "### Date: 20 Jan 2023\n"
   ]
  },
  {
   "cell_type": "markdown",
   "id": "3a1cf621",
   "metadata": {},
   "source": [
    "### Importing Pandas Library\n"
   ]
  },
  {
   "cell_type": "code",
   "execution_count": 1,
   "id": "fc1d0e9f",
   "metadata": {},
   "outputs": [],
   "source": [
    "import pandas as pd"
   ]
  },
  {
   "cell_type": "markdown",
   "id": "39c6e009",
   "metadata": {},
   "source": [
    "### Loading the Dataset"
   ]
  },
  {
   "cell_type": "code",
   "execution_count": 2,
   "id": "bb410b4e",
   "metadata": {},
   "outputs": [],
   "source": [
    "df = pd.read_csv('starwars.csv')"
   ]
  },
  {
   "cell_type": "markdown",
   "id": "ff35b3d4",
   "metadata": {},
   "source": [
    "## Exploring the Dataset\n",
    "### Checking the First 5 data from the Dataset"
   ]
  },
  {
   "cell_type": "code",
   "execution_count": 3,
   "id": "ee5d6a6f",
   "metadata": {},
   "outputs": [
    {
     "data": {
      "text/html": [
       "<div>\n",
       "<style scoped>\n",
       "    .dataframe tbody tr th:only-of-type {\n",
       "        vertical-align: middle;\n",
       "    }\n",
       "\n",
       "    .dataframe tbody tr th {\n",
       "        vertical-align: top;\n",
       "    }\n",
       "\n",
       "    .dataframe thead th {\n",
       "        text-align: right;\n",
       "    }\n",
       "</style>\n",
       "<table border=\"1\" class=\"dataframe\">\n",
       "  <thead>\n",
       "    <tr style=\"text-align: right;\">\n",
       "      <th></th>\n",
       "      <th>id</th>\n",
       "      <th>seen_any_films</th>\n",
       "      <th>fan</th>\n",
       "      <th>seen_episode1</th>\n",
       "      <th>seen_episode2</th>\n",
       "      <th>seen_episode3</th>\n",
       "      <th>seen_episode4</th>\n",
       "      <th>seen_episode5</th>\n",
       "      <th>seen_episode6</th>\n",
       "      <th>rank_episode1</th>\n",
       "      <th>...</th>\n",
       "      <th>view_yoda</th>\n",
       "      <th>who_shot_first</th>\n",
       "      <th>familiar_with_expanded_universe</th>\n",
       "      <th>fan_expanded_universe</th>\n",
       "      <th>fan_star_trek</th>\n",
       "      <th>gender</th>\n",
       "      <th>age</th>\n",
       "      <th>household_income</th>\n",
       "      <th>education</th>\n",
       "      <th>location</th>\n",
       "    </tr>\n",
       "  </thead>\n",
       "  <tbody>\n",
       "    <tr>\n",
       "      <th>0</th>\n",
       "      <td>3.292880e+09</td>\n",
       "      <td>Yes</td>\n",
       "      <td>Yes</td>\n",
       "      <td>Yes</td>\n",
       "      <td>Yes</td>\n",
       "      <td>Yes</td>\n",
       "      <td>Yes</td>\n",
       "      <td>Yes</td>\n",
       "      <td>Yes</td>\n",
       "      <td>3.0</td>\n",
       "      <td>...</td>\n",
       "      <td>Very favorably</td>\n",
       "      <td>I don't understand this question</td>\n",
       "      <td>Yes</td>\n",
       "      <td>No</td>\n",
       "      <td>No</td>\n",
       "      <td>Male</td>\n",
       "      <td>18-29</td>\n",
       "      <td>NaN</td>\n",
       "      <td>High school degree</td>\n",
       "      <td>South Atlantic</td>\n",
       "    </tr>\n",
       "    <tr>\n",
       "      <th>1</th>\n",
       "      <td>3.292880e+09</td>\n",
       "      <td>No</td>\n",
       "      <td>NaN</td>\n",
       "      <td>NaN</td>\n",
       "      <td>NaN</td>\n",
       "      <td>NaN</td>\n",
       "      <td>NaN</td>\n",
       "      <td>NaN</td>\n",
       "      <td>NaN</td>\n",
       "      <td>NaN</td>\n",
       "      <td>...</td>\n",
       "      <td>NaN</td>\n",
       "      <td>NaN</td>\n",
       "      <td>NaN</td>\n",
       "      <td>NaN</td>\n",
       "      <td>Yes</td>\n",
       "      <td>Male</td>\n",
       "      <td>18-29</td>\n",
       "      <td>$0 - $24,999</td>\n",
       "      <td>Bachelor degree</td>\n",
       "      <td>West South Central</td>\n",
       "    </tr>\n",
       "    <tr>\n",
       "      <th>2</th>\n",
       "      <td>3.292765e+09</td>\n",
       "      <td>Yes</td>\n",
       "      <td>No</td>\n",
       "      <td>Yes</td>\n",
       "      <td>Yes</td>\n",
       "      <td>Yes</td>\n",
       "      <td>No</td>\n",
       "      <td>No</td>\n",
       "      <td>No</td>\n",
       "      <td>1.0</td>\n",
       "      <td>...</td>\n",
       "      <td>Unfamiliar (N/A)</td>\n",
       "      <td>I don't understand this question</td>\n",
       "      <td>No</td>\n",
       "      <td>NaN</td>\n",
       "      <td>No</td>\n",
       "      <td>Male</td>\n",
       "      <td>18-29</td>\n",
       "      <td>$0 - $24,999</td>\n",
       "      <td>High school degree</td>\n",
       "      <td>West North Central</td>\n",
       "    </tr>\n",
       "    <tr>\n",
       "      <th>3</th>\n",
       "      <td>3.292763e+09</td>\n",
       "      <td>Yes</td>\n",
       "      <td>Yes</td>\n",
       "      <td>Yes</td>\n",
       "      <td>Yes</td>\n",
       "      <td>Yes</td>\n",
       "      <td>Yes</td>\n",
       "      <td>Yes</td>\n",
       "      <td>Yes</td>\n",
       "      <td>5.0</td>\n",
       "      <td>...</td>\n",
       "      <td>Very favorably</td>\n",
       "      <td>I don't understand this question</td>\n",
       "      <td>No</td>\n",
       "      <td>NaN</td>\n",
       "      <td>Yes</td>\n",
       "      <td>Male</td>\n",
       "      <td>18-29</td>\n",
       "      <td>$100,000 - $149,999</td>\n",
       "      <td>Some college or Associate degree</td>\n",
       "      <td>West North Central</td>\n",
       "    </tr>\n",
       "    <tr>\n",
       "      <th>4</th>\n",
       "      <td>3.292731e+09</td>\n",
       "      <td>Yes</td>\n",
       "      <td>Yes</td>\n",
       "      <td>Yes</td>\n",
       "      <td>Yes</td>\n",
       "      <td>Yes</td>\n",
       "      <td>Yes</td>\n",
       "      <td>Yes</td>\n",
       "      <td>Yes</td>\n",
       "      <td>5.0</td>\n",
       "      <td>...</td>\n",
       "      <td>Somewhat favorably</td>\n",
       "      <td>Greedo</td>\n",
       "      <td>Yes</td>\n",
       "      <td>No</td>\n",
       "      <td>No</td>\n",
       "      <td>Male</td>\n",
       "      <td>18-29</td>\n",
       "      <td>$100,000 - $149,999</td>\n",
       "      <td>Some college or Associate degree</td>\n",
       "      <td>West North Central</td>\n",
       "    </tr>\n",
       "  </tbody>\n",
       "</table>\n",
       "<p>5 rows × 38 columns</p>\n",
       "</div>"
      ],
      "text/plain": [
       "             id seen_any_films  fan seen_episode1 seen_episode2 seen_episode3  \\\n",
       "0  3.292880e+09            Yes  Yes           Yes           Yes           Yes   \n",
       "1  3.292880e+09             No  NaN           NaN           NaN           NaN   \n",
       "2  3.292765e+09            Yes   No           Yes           Yes           Yes   \n",
       "3  3.292763e+09            Yes  Yes           Yes           Yes           Yes   \n",
       "4  3.292731e+09            Yes  Yes           Yes           Yes           Yes   \n",
       "\n",
       "  seen_episode4 seen_episode5 seen_episode6  rank_episode1  ...  \\\n",
       "0           Yes           Yes           Yes            3.0  ...   \n",
       "1           NaN           NaN           NaN            NaN  ...   \n",
       "2            No            No            No            1.0  ...   \n",
       "3           Yes           Yes           Yes            5.0  ...   \n",
       "4           Yes           Yes           Yes            5.0  ...   \n",
       "\n",
       "            view_yoda                    who_shot_first  \\\n",
       "0      Very favorably  I don't understand this question   \n",
       "1                 NaN                               NaN   \n",
       "2    Unfamiliar (N/A)  I don't understand this question   \n",
       "3      Very favorably  I don't understand this question   \n",
       "4  Somewhat favorably                            Greedo   \n",
       "\n",
       "   familiar_with_expanded_universe  fan_expanded_universe  fan_star_trek  \\\n",
       "0                              Yes                     No             No   \n",
       "1                              NaN                    NaN            Yes   \n",
       "2                               No                    NaN             No   \n",
       "3                               No                    NaN            Yes   \n",
       "4                              Yes                     No             No   \n",
       "\n",
       "  gender    age     household_income                         education  \\\n",
       "0   Male  18-29                  NaN                High school degree   \n",
       "1   Male  18-29         $0 - $24,999                   Bachelor degree   \n",
       "2   Male  18-29         $0 - $24,999                High school degree   \n",
       "3   Male  18-29  $100,000 - $149,999  Some college or Associate degree   \n",
       "4   Male  18-29  $100,000 - $149,999  Some college or Associate degree   \n",
       "\n",
       "             location  \n",
       "0      South Atlantic  \n",
       "1  West South Central  \n",
       "2  West North Central  \n",
       "3  West North Central  \n",
       "4  West North Central  \n",
       "\n",
       "[5 rows x 38 columns]"
      ]
     },
     "execution_count": 3,
     "metadata": {},
     "output_type": "execute_result"
    }
   ],
   "source": [
    "df.head(5)"
   ]
  },
  {
   "cell_type": "markdown",
   "id": "bb151d71",
   "metadata": {},
   "source": [
    "### Getting Information about the dataset"
   ]
  },
  {
   "cell_type": "code",
   "execution_count": 4,
   "id": "a1610db7",
   "metadata": {},
   "outputs": [
    {
     "name": "stdout",
     "output_type": "stream",
     "text": [
      "<class 'pandas.core.frame.DataFrame'>\n",
      "RangeIndex: 1186 entries, 0 to 1185\n",
      "Data columns (total 38 columns):\n",
      " #   Column                           Non-Null Count  Dtype  \n",
      "---  ------                           --------------  -----  \n",
      " 0   id                               1186 non-null   float64\n",
      " 1   seen_any_films                   1186 non-null   object \n",
      " 2   fan                              836 non-null    object \n",
      " 3   seen_episode1                    936 non-null    object \n",
      " 4   seen_episode2                    936 non-null    object \n",
      " 5   seen_episode3                    936 non-null    object \n",
      " 6   seen_episode4                    936 non-null    object \n",
      " 7   seen_episode5                    936 non-null    object \n",
      " 8   seen_episode6                    936 non-null    object \n",
      " 9   rank_episode1                    835 non-null    float64\n",
      " 10  rank_episode2                    836 non-null    float64\n",
      " 11  rank_episode3                    835 non-null    float64\n",
      " 12  rank_episode4                    836 non-null    float64\n",
      " 13  rank_episode5                    836 non-null    float64\n",
      " 14  rank_episode6                    836 non-null    float64\n",
      " 15  view_han_solo                    829 non-null    object \n",
      " 16  view_luke_skywalker              831 non-null    object \n",
      " 17  view_princess_leia_organa        831 non-null    object \n",
      " 18  view_anakin_skywalker            823 non-null    object \n",
      " 19  view_obi_wan_kenobi              825 non-null    object \n",
      " 20  view_emperor_palpatine           814 non-null    object \n",
      " 21  view_darth_vader                 826 non-null    object \n",
      " 22  view_lando_calrissian            820 non-null    object \n",
      " 23  view_boba_fett                   812 non-null    object \n",
      " 24  view_c3p0                        827 non-null    object \n",
      " 25  view_r2d2                        830 non-null    object \n",
      " 26  view_jar_jar_binks               821 non-null    object \n",
      " 27  view_padme_amidala               814 non-null    object \n",
      " 28  view_yoda                        826 non-null    object \n",
      " 29  who_shot_first                   828 non-null    object \n",
      " 30  familiar_with_expanded_universe  828 non-null    object \n",
      " 31  fan_expanded_universe            213 non-null    object \n",
      " 32  fan_star_trek                    1068 non-null   object \n",
      " 33  gender                           1046 non-null   object \n",
      " 34  age                              1046 non-null   object \n",
      " 35  household_income                 858 non-null    object \n",
      " 36  education                        1036 non-null   object \n",
      " 37  location                         1043 non-null   object \n",
      "dtypes: float64(7), object(31)\n",
      "memory usage: 352.2+ KB\n"
     ]
    }
   ],
   "source": [
    "df.info()"
   ]
  },
  {
   "cell_type": "markdown",
   "id": "2cbedd33",
   "metadata": {},
   "source": [
    "### Checking Total no.of. rows / no. of. data in df"
   ]
  },
  {
   "cell_type": "code",
   "execution_count": 5,
   "id": "209075fe",
   "metadata": {},
   "outputs": [
    {
     "data": {
      "text/plain": [
       "1186"
      ]
     },
     "execution_count": 5,
     "metadata": {},
     "output_type": "execute_result"
    }
   ],
   "source": [
    "len(df)"
   ]
  },
  {
   "cell_type": "markdown",
   "id": "b0f76c50",
   "metadata": {},
   "source": [
    "### Checking the columns in df"
   ]
  },
  {
   "cell_type": "code",
   "execution_count": 6,
   "id": "f881e418",
   "metadata": {},
   "outputs": [
    {
     "data": {
      "text/plain": [
       "Index(['id', 'seen_any_films', 'fan', 'seen_episode1', 'seen_episode2',\n",
       "       'seen_episode3', 'seen_episode4', 'seen_episode5', 'seen_episode6',\n",
       "       'rank_episode1', 'rank_episode2', 'rank_episode3', 'rank_episode4',\n",
       "       'rank_episode5', 'rank_episode6', 'view_han_solo',\n",
       "       'view_luke_skywalker', 'view_princess_leia_organa',\n",
       "       'view_anakin_skywalker', 'view_obi_wan_kenobi',\n",
       "       'view_emperor_palpatine', 'view_darth_vader', 'view_lando_calrissian',\n",
       "       'view_boba_fett', 'view_c3p0', 'view_r2d2', 'view_jar_jar_binks',\n",
       "       'view_padme_amidala', 'view_yoda', 'who_shot_first',\n",
       "       'familiar_with_expanded_universe', 'fan_expanded_universe',\n",
       "       'fan_star_trek', 'gender', 'age', 'household_income', 'education',\n",
       "       'location'],\n",
       "      dtype='object')"
      ]
     },
     "execution_count": 6,
     "metadata": {},
     "output_type": "execute_result"
    }
   ],
   "source": [
    "df.columns"
   ]
  },
  {
   "cell_type": "markdown",
   "id": "cbd5cba4",
   "metadata": {},
   "source": [
    "### Getting  a descriptive statistics summary of the dataframe."
   ]
  },
  {
   "cell_type": "code",
   "execution_count": 7,
   "id": "e7234df3",
   "metadata": {
    "scrolled": true
   },
   "outputs": [
    {
     "data": {
      "text/html": [
       "<div>\n",
       "<style scoped>\n",
       "    .dataframe tbody tr th:only-of-type {\n",
       "        vertical-align: middle;\n",
       "    }\n",
       "\n",
       "    .dataframe tbody tr th {\n",
       "        vertical-align: top;\n",
       "    }\n",
       "\n",
       "    .dataframe thead th {\n",
       "        text-align: right;\n",
       "    }\n",
       "</style>\n",
       "<table border=\"1\" class=\"dataframe\">\n",
       "  <thead>\n",
       "    <tr style=\"text-align: right;\">\n",
       "      <th></th>\n",
       "      <th>id</th>\n",
       "      <th>rank_episode1</th>\n",
       "      <th>rank_episode2</th>\n",
       "      <th>rank_episode3</th>\n",
       "      <th>rank_episode4</th>\n",
       "      <th>rank_episode5</th>\n",
       "      <th>rank_episode6</th>\n",
       "    </tr>\n",
       "  </thead>\n",
       "  <tbody>\n",
       "    <tr>\n",
       "      <th>count</th>\n",
       "      <td>1.186000e+03</td>\n",
       "      <td>835.000000</td>\n",
       "      <td>836.000000</td>\n",
       "      <td>835.000000</td>\n",
       "      <td>836.000000</td>\n",
       "      <td>836.000000</td>\n",
       "      <td>836.000000</td>\n",
       "    </tr>\n",
       "    <tr>\n",
       "      <th>mean</th>\n",
       "      <td>3.290128e+09</td>\n",
       "      <td>3.732934</td>\n",
       "      <td>4.087321</td>\n",
       "      <td>4.341317</td>\n",
       "      <td>3.272727</td>\n",
       "      <td>2.513158</td>\n",
       "      <td>3.047847</td>\n",
       "    </tr>\n",
       "    <tr>\n",
       "      <th>std</th>\n",
       "      <td>1.055639e+06</td>\n",
       "      <td>1.656122</td>\n",
       "      <td>1.365365</td>\n",
       "      <td>1.400464</td>\n",
       "      <td>1.825901</td>\n",
       "      <td>1.578620</td>\n",
       "      <td>1.666897</td>\n",
       "    </tr>\n",
       "    <tr>\n",
       "      <th>min</th>\n",
       "      <td>3.288373e+09</td>\n",
       "      <td>1.000000</td>\n",
       "      <td>1.000000</td>\n",
       "      <td>1.000000</td>\n",
       "      <td>1.000000</td>\n",
       "      <td>1.000000</td>\n",
       "      <td>1.000000</td>\n",
       "    </tr>\n",
       "    <tr>\n",
       "      <th>25%</th>\n",
       "      <td>3.289451e+09</td>\n",
       "      <td>3.000000</td>\n",
       "      <td>3.000000</td>\n",
       "      <td>3.000000</td>\n",
       "      <td>2.000000</td>\n",
       "      <td>1.000000</td>\n",
       "      <td>2.000000</td>\n",
       "    </tr>\n",
       "    <tr>\n",
       "      <th>50%</th>\n",
       "      <td>3.290147e+09</td>\n",
       "      <td>4.000000</td>\n",
       "      <td>4.000000</td>\n",
       "      <td>5.000000</td>\n",
       "      <td>3.000000</td>\n",
       "      <td>2.000000</td>\n",
       "      <td>3.000000</td>\n",
       "    </tr>\n",
       "    <tr>\n",
       "      <th>75%</th>\n",
       "      <td>3.290814e+09</td>\n",
       "      <td>5.000000</td>\n",
       "      <td>5.000000</td>\n",
       "      <td>6.000000</td>\n",
       "      <td>5.000000</td>\n",
       "      <td>3.000000</td>\n",
       "      <td>4.000000</td>\n",
       "    </tr>\n",
       "    <tr>\n",
       "      <th>max</th>\n",
       "      <td>3.292880e+09</td>\n",
       "      <td>6.000000</td>\n",
       "      <td>6.000000</td>\n",
       "      <td>6.000000</td>\n",
       "      <td>6.000000</td>\n",
       "      <td>6.000000</td>\n",
       "      <td>6.000000</td>\n",
       "    </tr>\n",
       "  </tbody>\n",
       "</table>\n",
       "</div>"
      ],
      "text/plain": [
       "                 id  rank_episode1  rank_episode2  rank_episode3  \\\n",
       "count  1.186000e+03     835.000000     836.000000     835.000000   \n",
       "mean   3.290128e+09       3.732934       4.087321       4.341317   \n",
       "std    1.055639e+06       1.656122       1.365365       1.400464   \n",
       "min    3.288373e+09       1.000000       1.000000       1.000000   \n",
       "25%    3.289451e+09       3.000000       3.000000       3.000000   \n",
       "50%    3.290147e+09       4.000000       4.000000       5.000000   \n",
       "75%    3.290814e+09       5.000000       5.000000       6.000000   \n",
       "max    3.292880e+09       6.000000       6.000000       6.000000   \n",
       "\n",
       "       rank_episode4  rank_episode5  rank_episode6  \n",
       "count     836.000000     836.000000     836.000000  \n",
       "mean        3.272727       2.513158       3.047847  \n",
       "std         1.825901       1.578620       1.666897  \n",
       "min         1.000000       1.000000       1.000000  \n",
       "25%         2.000000       1.000000       2.000000  \n",
       "50%         3.000000       2.000000       3.000000  \n",
       "75%         5.000000       3.000000       4.000000  \n",
       "max         6.000000       6.000000       6.000000  "
      ]
     },
     "execution_count": 7,
     "metadata": {},
     "output_type": "execute_result"
    }
   ],
   "source": [
    "df.describe()"
   ]
  },
  {
   "cell_type": "markdown",
   "id": "59e88bcf",
   "metadata": {},
   "source": [
    "### Question 1: Write code that determines the number of unique values for age."
   ]
  },
  {
   "cell_type": "code",
   "execution_count": 8,
   "id": "d9188dc2",
   "metadata": {},
   "outputs": [
    {
     "data": {
      "text/plain": [
       "4"
      ]
     },
     "execution_count": 8,
     "metadata": {},
     "output_type": "execute_result"
    }
   ],
   "source": [
    "df['age'].nunique()\n",
    "#nunique() returns the no.of.unique values in column of df"
   ]
  },
  {
   "cell_type": "markdown",
   "id": "d148e129",
   "metadata": {},
   "source": [
    "### Question 2: Write code that lists all the unique responses to the question, \"Who shot first?\" (who_shot_firstfield)."
   ]
  },
  {
   "cell_type": "code",
   "execution_count": 9,
   "id": "da7408c2",
   "metadata": {},
   "outputs": [
    {
     "data": {
      "text/plain": [
       "[\"I don't understand this question\", nan, 'Greedo', 'Han']"
      ]
     },
     "execution_count": 9,
     "metadata": {},
     "output_type": "execute_result"
    }
   ],
   "source": [
    "list(df['who_shot_first'].unique())\n",
    "#unique() returns the unique values in column of df"
   ]
  },
  {
   "cell_type": "markdown",
   "id": "7bb0c888",
   "metadata": {},
   "source": [
    "### Question 3: Write code to determine the number of entries in the data set that view Darth Vader as \"Veryfavorably\" or \"Somewhat favorably\"."
   ]
  },
  {
   "cell_type": "code",
   "execution_count": 10,
   "id": "e3ef1e3d",
   "metadata": {},
   "outputs": [
    {
     "data": {
      "text/plain": [
       "481"
      ]
     },
     "execution_count": 10,
     "metadata": {},
     "output_type": "execute_result"
    }
   ],
   "source": [
    "# using str.contains() to retrieve the data if a value is present\n",
    "len(df[df[\"view_darth_vader\"].str.contains(\"Very favorably\")| df[\"view_darth_vader\"].str.contains(\"Somewhat favorably\")])"
   ]
  },
  {
   "cell_type": "markdown",
   "id": "6c431a40",
   "metadata": {},
   "source": [
    "### Question 4: Write code that computes the total number of people that have seen all 6 Star Wars films (hint:471)."
   ]
  },
  {
   "cell_type": "code",
   "execution_count": 11,
   "id": "6eaabbe1",
   "metadata": {},
   "outputs": [
    {
     "data": {
      "text/plain": [
       "471"
      ]
     },
     "execution_count": 11,
     "metadata": {},
     "output_type": "execute_result"
    }
   ],
   "source": [
    "# using str.contains() to retrieve the data if a value is present\n",
    "len(df[df['seen_episode1'].str.contains('Yes')&df['seen_episode2'].str.contains('Yes')&df['seen_episode3'].str.contains('Yes')&df['seen_episode4'].str.contains('Yes')&df['seen_episode5'].str.contains('Yes')&df['seen_episode6'].str.contains('Yes')])"
   ]
  },
  {
   "cell_type": "markdown",
   "id": "1da6f7ec",
   "metadata": {},
   "source": [
    "### Question 5: Write code that computes the percentage of males and females that are fans of Star Wars."
   ]
  },
  {
   "cell_type": "code",
   "execution_count": 12,
   "id": "cef56378",
   "metadata": {},
   "outputs": [],
   "source": [
    "# Extracting 2 different df where gender = male (total_male_df) and gender = female(total_female_df) \n",
    "total_male_df=df[df['gender']=='Male']\n",
    "total_female_df=df[df['gender']=='Female']"
   ]
  },
  {
   "cell_type": "markdown",
   "id": "c97b1fba",
   "metadata": {},
   "source": [
    "##### Then, We are extracting df where the fans attribute is Yes -> fans_df\n",
    "##### Then from fans_df, we seperate male_fans_df(gender=male) and female_fans_df(gender = female)\n",
    "##### Male fans Percentage = No.of.Male Fans/ No.of. Total Male"
   ]
  },
  {
   "cell_type": "code",
   "execution_count": 13,
   "id": "be732c1a",
   "metadata": {},
   "outputs": [
    {
     "data": {
      "text/plain": [
       "0.6096579476861167"
      ]
     },
     "execution_count": 13,
     "metadata": {},
     "output_type": "execute_result"
    }
   ],
   "source": [
    "fans_df=df[df['fan']==\"Yes\"]\n",
    "male_fans_df=fans_df[fans_df['gender']=='Male']\n",
    "female_fans_df=fans_df[fans_df['gender']=='Female']\n",
    "male_fans_percentage=len(male_fans_df)/len(total_male_df)\n",
    "male_fans_percentage\n"
   ]
  },
  {
   "cell_type": "markdown",
   "id": "4978c7dd",
   "metadata": {},
   "source": [
    "#### Female fans Percentage = No.of.Female Fans/ No.of. Total Female"
   ]
  },
  {
   "cell_type": "code",
   "execution_count": 14,
   "id": "c402bb44",
   "metadata": {},
   "outputs": [
    {
     "data": {
      "text/plain": [
       "0.4335154826958106"
      ]
     },
     "execution_count": 14,
     "metadata": {},
     "output_type": "execute_result"
    }
   ],
   "source": [
    "female_fans_percentage=len(female_fans_df)/len(total_female_df)\n",
    "female_fans_percentage"
   ]
  },
  {
   "cell_type": "markdown",
   "id": "55704a32",
   "metadata": {},
   "source": [
    "### Question 6: Turn your notebook into a document with text. Using Markdown, add an appropriate title to thetop of the notebook, along with your name and date. Add appropriate sub-headings before your answers to each of the questions."
   ]
  },
  {
   "cell_type": "markdown",
   "id": "83100733",
   "metadata": {},
   "source": [
    "##### Included Markdowns with Headings wherever necessary and  Added Comments with Details Needed"
   ]
  },
  {
   "cell_type": "code",
   "execution_count": null,
   "id": "f62920be",
   "metadata": {},
   "outputs": [],
   "source": []
  }
 ],
 "metadata": {
  "kernelspec": {
   "display_name": "Python 3 (ipykernel)",
   "language": "python",
   "name": "python3"
  },
  "language_info": {
   "codemirror_mode": {
    "name": "ipython",
    "version": 3
   },
   "file_extension": ".py",
   "mimetype": "text/x-python",
   "name": "python",
   "nbconvert_exporter": "python",
   "pygments_lexer": "ipython3",
   "version": "3.9.12"
  }
 },
 "nbformat": 4,
 "nbformat_minor": 5
}
